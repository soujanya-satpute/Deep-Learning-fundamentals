{
  "nbformat": 4,
  "nbformat_minor": 0,
  "metadata": {
    "colab": {
      "name": "Forward Propogation",
      "provenance": []
    },
    "kernelspec": {
      "name": "python3",
      "display_name": "Python 3"
    },
    "language_info": {
      "name": "python"
    }
  },
  "cells": [
    {
      "cell_type": "markdown",
      "source": [
        "Here we have 2 input fields 2 nodes for hidden layer and activation funtion tanH\n"
      ],
      "metadata": {
        "id": "9-wQSe0zhp3h"
      }
    },
    {
      "cell_type": "code",
      "execution_count": null,
      "metadata": {
        "id": "n_7Cc2MZp_HG"
      },
      "outputs": [],
      "source": [
        "import numpy as np\n",
        "input_data = np.array([2,3])\n",
        "weights = {'node_0': np.array([1,1]),'node_1':np.array([-1,1]), 'output':np.array([2,-1]) }\n",
        "node_0_value = (input_data* weights['node_0']).sum()\n",
        "node_0_output = np.tanh(node_0_value)\n",
        "node_1_value = (input_data* weights['node_1']).sum()\n",
        "node_1_output = np.tanh(node_1_value)\n",
        "\n",
        "hidden_layer_value = np.array([node_0_output,node_1_output])\n",
        "output = (hidden_layer_value*weights['output']).sum()"
      ]
    },
    {
      "cell_type": "code",
      "source": [
        "print('input_data',input_data)\n",
        "print('Weights',weights)\n",
        "print('hidden_layer_value',hidden_layer_value)\n",
        "print('output',output)"
      ],
      "metadata": {
        "colab": {
          "base_uri": "https://localhost:8080/"
        },
        "id": "YXy_x4GWcBi0",
        "outputId": "1d11a418-deb6-46af-e9f2-72f16b1ca37d"
      },
      "execution_count": null,
      "outputs": [
        {
          "output_type": "stream",
          "name": "stdout",
          "text": [
            "input_data [2 3]\n",
            "Weights {'node_0': array([1, 1]), 'node_1': array([-1,  1]), 'output': array([ 2, -1])}\n",
            "hidden_layer_value [0.9999092  0.76159416]\n",
            "output 1.2382242525694254\n"
          ]
        }
      ]
    },
    {
      "cell_type": "markdown",
      "source": [
        "Here we have 2 input fields 2 nodes for hidden layer and activation funtion Relu\n"
      ],
      "metadata": {
        "id": "R5nNYshbh6ly"
      }
    },
    {
      "cell_type": "code",
      "source": [
        "def relu(input):\n",
        "    '''Define your relu activation function here'''\n",
        "    # Calculate the value for the output of the relu function: output\n",
        "    output = max(input, 0)\n",
        "    \n",
        "    # Return the value just calculated\n",
        "    return(output)\n",
        "\n",
        "# Calculate node 0 value: node_0_output\n",
        "node_0_input = (input_data * weights['node_0']).sum()\n",
        "node_0_output = relu(node_0_input)\n",
        "\n",
        "# Calculate node 1 value: node_1_output\n",
        "node_1_input = (input_data * weights['node_1']).sum()\n",
        "node_1_output = relu(node_1_input)\n",
        "\n",
        "# Put node values into array: hidden_layer_outputs\n",
        "hidden_layer_outputs = np.array([node_0_output, node_1_output])\n",
        "\n",
        "# Calculate model output (do not apply relu)\n",
        "model_output = (hidden_layer_outputs * weights['output']).sum()\n",
        "\n",
        "# Print model output\n",
        "print(model_output)"
      ],
      "metadata": {
        "colab": {
          "base_uri": "https://localhost:8080/"
        },
        "id": "lOQD_UBziBo3",
        "outputId": "773c39d7-a617-46a7-b0b0-863e79466f0b"
      },
      "execution_count": null,
      "outputs": [
        {
          "output_type": "stream",
          "name": "stdout",
          "text": [
            "9\n"
          ]
        }
      ]
    },
    {
      "cell_type": "markdown",
      "source": [
        "Custom Function for predicting the network\n"
      ],
      "metadata": {
        "id": "0C1y1jlSjXq3"
      }
    },
    {
      "cell_type": "code",
      "source": [
        "# Define predict_with_network()\n",
        "def predict_with_network(input_data_row, weights):\n",
        "\n",
        "    # Calculate node 0 value\n",
        "    node_0_input = (input_data_row* weights['node_0']).sum()\n",
        "    node_0_output = relu(node_0_input)\n",
        "\n",
        "    # Calculate node 1 value\n",
        "    node_1_input = (input_data_row* weights['node_1']).sum()\n",
        "    node_1_output = relu(node_1_input)\n",
        "\n",
        "    # Put node values into array: hidden_layer_outputs\n",
        "    hidden_layer_outputs = np.array([node_0_output, node_1_output])\n",
        "    \n",
        "    # Calculate model output\n",
        "    input_to_final_layer = (hidden_layer_outputs* weights['output']).sum()\n",
        "    model_output = relu(input_to_final_layer)\n",
        "    \n",
        "    # Return model output\n",
        "    return(model_output)\n",
        "\n",
        "\n",
        "# Create empty list to store prediction results\n",
        "results = []\n",
        "for input_data_row in input_data:\n",
        "    # Append prediction to results\n",
        "    results.append(predict_with_network(input_data_row,weights))\n",
        "\n",
        "# Print results\n",
        "print(results)\n",
        "print(input_data)"
      ],
      "metadata": {
        "colab": {
          "base_uri": "https://localhost:8080/"
        },
        "id": "TKQA9-XMjTJy",
        "outputId": "a4ba01da-0370-4496-d05f-19c0cc32a52b"
      },
      "execution_count": null,
      "outputs": [
        {
          "output_type": "stream",
          "name": "stdout",
          "text": [
            "[8, 12]\n",
            "[2 3]\n"
          ]
        }
      ]
    },
    {
      "cell_type": "markdown",
      "source": [
        "Creating deeper Network with 2 hidden layers:\n",
        "\n",
        "Input Data = [3,5]\n",
        "\n",
        "\n",
        "weights = {'node_0':[2,4], 'node_1':[4,-5], 'node_3':[-1,1], 'node_4':[2,2], 'output':[-3,7]}"
      ],
      "metadata": {
        "id": "8WS2CK8qkIRA"
      }
    },
    {
      "cell_type": "code",
      "source": [
        "weights = {'node_0_1': [ 4, -5], 'node_0_0': [2, 4], 'node_1_1': [1, 2], 'output': [2, 7], 'node_1_0': [-1,  ]}\n",
        "input_data = [3,5]\n",
        "def predict_with_network(input_data):\n",
        "    # Calculate node 0 in the first hidden layer\n",
        "    node_0_0_input = (input_data * weights['node_0_0']).sum()\n",
        "    node_0_0_output = relu(node_0_0_input)\n",
        "\n",
        "    # Calculate node 1 in the first hidden layer\n",
        "    node_0_1_input = (input_data * weights['node_0_1']).sum()\n",
        "    node_0_1_output = relu(node_0_1_input)\n",
        "\n",
        "    # Put node values into array: hidden_0_outputs\n",
        "    hidden_0_outputs = np.array([node_0_0_output, node_0_1_output])\n",
        "    \n",
        "    # Calculate node 0 in the second hidden layer\n",
        "    node_1_0_input = (hidden_0_outputs * weights['node_1_0']).sum()\n",
        "    node_1_0_output = relu(node_1_0_input)\n",
        "\n",
        "    # Calculate node 1 in the second hidden layer\n",
        "    node_1_1_input = (hidden_0_outputs * weights['node_1_1']).sum()\n",
        "    node_1_1_output = relu(node_1_1_input)\n",
        "\n",
        "    # Put node values into array: hidden_1_outputs\n",
        "    hidden_1_outputs = np.array([node_1_0_output, node_1_1_output])\n",
        "\n",
        "    # Calculate model output: model_output\n",
        "    model_output = (hidden_1_outputs * weights['output']).sum()\n",
        "    \n",
        "    # Return model_output\n",
        "    return(model_output)\n",
        "\n",
        "output = predict_with_network(input_data)\n",
        "print(output)\n",
        "\n"
      ],
      "metadata": {
        "id": "RRjiKcjak_cU"
      },
      "execution_count": null,
      "outputs": []
    },
    {
      "cell_type": "code",
      "source": [
        "# The data point you will make a prediction for\n",
        "input_data = np.array([0, 3])\n",
        "\n",
        "# Sample weights\n",
        "weights_0 = {'node_0': [2, 1],\n",
        "             'node_1': [1, 2],\n",
        "             'output': [1, 1]\n",
        "            }\n",
        "\n",
        "# The actual target value, used to calculate the error\n",
        "target_actual = 3\n",
        "\n",
        "# Make prediction using original weights\n",
        "model_output_0 = predict_with_network(input_data, weights_0)\n",
        "\n",
        "# Calculate error: error_0\n",
        "error_0 = model_output_0 - target_actual\n",
        "\n",
        "# Create weights that cause the network to make perfect prediction (3): weights_1\n",
        "weights_1 = {'node_0': [2, 1],\n",
        "             'node_1': [1, 0],\n",
        "             'output': [1, 1]\n",
        "            }\n",
        "\n",
        "# Make prediction using new weights: model_output_1\n",
        "model_output_1 =predict_with_network(input_data, weights_1)\n",
        "\n",
        "\n",
        "# Calculate error: error_1\n",
        "error_1 = target_actual - model_output_1\n",
        "\n",
        "# Print error_0 and error_1\n",
        "print(error_0)\n",
        "print(error_1)\n"
      ],
      "metadata": {
        "id": "pfV50Bx-nuBC"
      },
      "execution_count": null,
      "outputs": []
    },
    {
      "cell_type": "code",
      "source": [
        "from sklearn.metrics import mean_squared_error\n",
        "\n",
        "# Create model_output_0 \n",
        "model_output_0 = []\n",
        "# Create model_output_1\n",
        "model_output_1 = []\n",
        "\n",
        "# Loop over input_data\n",
        "for row in input_data:\n",
        "    # Append prediction to model_output_0\n",
        "    model_output_0.append(predict_with_network(row, weights_0))\n",
        "    \n",
        "    # Append prediction to model_output_1\n",
        "    model_output_1.append(predict_with_network(row, weights_1))\n",
        "\n",
        "# Calculate the mean squared error for model_output_0: mse_0\n",
        "mse_0 = mean_squared_error(target_actuals,model_output_0)\n",
        "\n",
        "# Calculate the mean squared error for model_output_1: mse_1\n",
        "mse_1 = mean_squared_error(target_actuals,model_output_1)\n",
        "\n",
        "# Print mse_0 and mse_1\n",
        "print(\"Mean squared error with weights_0: %f\" %mse_0)\n",
        "print(\"Mean squared error with weights_1: %f\" %mse_1)\n"
      ],
      "metadata": {
        "id": "RHUJho-2ph7B"
      },
      "execution_count": null,
      "outputs": []
    }
  ]
}